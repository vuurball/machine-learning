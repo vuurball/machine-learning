{
 "cells": [
  {
   "cell_type": "markdown",
   "metadata": {},
   "source": [
    "## ChargeBack Fraud Check Script:\n",
    "\n",
    " * **Algorithm**: _K-NN_ (Classification). \n",
    " * **Dataset**: a list of chargebacks, some valid, some fraudulant (file attached).\n",
    " * **Problem**: Need to predict if a chargeback has the potential of being fraud or if its legit.\n",
    " * **Solution**: Using K-NN algo to create a model based on past data which can classify a chargeback based on card number, chargeback date and transaction amount.  \n",
    " * **Results**: ~95% accuracy in identifying a chargeback as fraud or not."
   ]
  },
  {
   "cell_type": "code",
   "execution_count": 57,
   "metadata": {},
   "outputs": [],
   "source": [
    "import numpy as np\n",
    "from sklearn import preprocessing, neighbors\n",
    "import pandas as pd\n",
    "from sklearn.model_selection import train_test_split"
   ]
  },
  {
   "cell_type": "code",
   "execution_count": 58,
   "metadata": {
    "scrolled": true
   },
   "outputs": [
    {
     "data": {
      "text/html": [
       "<div>\n",
       "<style scoped>\n",
       "    .dataframe tbody tr th:only-of-type {\n",
       "        vertical-align: middle;\n",
       "    }\n",
       "\n",
       "    .dataframe tbody tr th {\n",
       "        vertical-align: top;\n",
       "    }\n",
       "\n",
       "    .dataframe thead th {\n",
       "        text-align: right;\n",
       "    }\n",
       "</style>\n",
       "<table border=\"1\" class=\"dataframe\">\n",
       "  <thead>\n",
       "    <tr style=\"text-align: right;\">\n",
       "      <th></th>\n",
       "      <th>CardNumber</th>\n",
       "      <th>Date</th>\n",
       "      <th>Amount</th>\n",
       "      <th>CBK</th>\n",
       "    </tr>\n",
       "  </thead>\n",
       "  <tbody>\n",
       "    <tr>\n",
       "      <td>0</td>\n",
       "      <td>5365182108</td>\n",
       "      <td>2015050100154</td>\n",
       "      <td>36.54</td>\n",
       "      <td>0</td>\n",
       "    </tr>\n",
       "    <tr>\n",
       "      <td>1</td>\n",
       "      <td>5365182108</td>\n",
       "      <td>2015050100346</td>\n",
       "      <td>36.54</td>\n",
       "      <td>0</td>\n",
       "    </tr>\n",
       "    <tr>\n",
       "      <td>2</td>\n",
       "      <td>4532111239</td>\n",
       "      <td>2015050100850</td>\n",
       "      <td>69.00</td>\n",
       "      <td>0</td>\n",
       "    </tr>\n",
       "  </tbody>\n",
       "</table>\n",
       "</div>"
      ],
      "text/plain": [
       "   CardNumber           Date  Amount  CBK\n",
       "0  5365182108  2015050100154   36.54    0\n",
       "1  5365182108  2015050100346   36.54    0\n",
       "2  4532111239  2015050100850   69.00    0"
      ]
     },
     "execution_count": 58,
     "metadata": {},
     "output_type": "execute_result"
    }
   ],
   "source": [
    "df = pd.read_csv('RealWorldApplications/chargeback-fraud-detection-dataset.csv')\n",
    "df.head(3)"
   ]
  },
  {
   "cell_type": "code",
   "execution_count": 59,
   "metadata": {},
   "outputs": [
    {
     "data": {
      "text/plain": [
       "0.9622641509433962"
      ]
     },
     "execution_count": 59,
     "metadata": {},
     "output_type": "execute_result"
    }
   ],
   "source": [
    "# defining X (features) and y (label)\n",
    "X = np.array(df.drop(['CBK'], 1))\n",
    "y = df['CBK']\n",
    "\n",
    "X_train, X_test, y_train, y_test = train_test_split(X, y, test_size=0.2)\n",
    "\n",
    "# K=5, KNeighborsClassifier(n_neighbors=5, ...)\n",
    "model = neighbors.KNeighborsClassifier()\n",
    "model.fit(X_train, y_train)\n",
    "\n",
    "# testing model accuracy\n",
    "accuracy = model.score(X_test, y_test) \n",
    "accuracy"
   ]
  },
  {
   "cell_type": "markdown",
   "metadata": {},
   "source": [
    "**Usage Example:**"
   ]
  },
  {
   "cell_type": "code",
   "execution_count": 60,
   "metadata": {},
   "outputs": [
    {
     "data": {
      "text/plain": [
       "array([0], dtype=int64)"
      ]
     },
     "execution_count": 60,
     "metadata": {},
     "output_type": "execute_result"
    }
   ],
   "source": [
    "test_chargeback = np.array([[5396143442, 20150530223820, 448.5]])\n",
    "\n",
    "is_fraud = model.predict(test_chargeback)\n",
    "is_fraud"
   ]
  },
  {
   "cell_type": "code",
   "execution_count": null,
   "metadata": {},
   "outputs": [],
   "source": []
  }
 ],
 "metadata": {
  "kernelspec": {
   "display_name": "Python 3",
   "language": "python",
   "name": "python3"
  },
  "language_info": {
   "codemirror_mode": {
    "name": "ipython",
    "version": 3
   },
   "file_extension": ".py",
   "mimetype": "text/x-python",
   "name": "python",
   "nbconvert_exporter": "python",
   "pygments_lexer": "ipython3",
   "version": "3.7.4"
  }
 },
 "nbformat": 4,
 "nbformat_minor": 2
}