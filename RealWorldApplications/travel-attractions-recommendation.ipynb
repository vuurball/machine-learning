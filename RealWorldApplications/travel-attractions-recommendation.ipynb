{
 "cells": [
  {
   "cell_type": "markdown",
   "metadata": {},
   "source": [
    "## Travel Attractions Recommendation Script:\n",
    " * **Algorithm**: _cosine_similarity_. \n",
    " * **Dataset**: Small dummy data of 13 travel attractions, and 9 fake users who rated some of them 1-5(file attached).\n",
    " * **Problem**: Suggest to a user travel attractions he might like based on his previous rattings and ratings of other users.\n",
    " * **Solution**: (_Collaborative Filtering_) Using ratings from all USERSxAttractions, creating a matrix of similar attractions based on taste. Then given current users' taste on some of the attractions, we calculate what rating the user whould give every other attraction, and then we can suggest the top of them.  \n",
    " * **Results**: A list of suggested attractions (from the dataset) a user might like."
   ]
  },
  {
   "cell_type": "code",
   "execution_count": 118,
   "metadata": {},
   "outputs": [],
   "source": [
    "import pandas as pd\n",
    "from sklearn import preprocessing\n",
    "from sklearn.metrics.pairwise import cosine_similarity"
   ]
  },
  {
   "cell_type": "code",
   "execution_count": 119,
   "metadata": {},
   "outputs": [
    {
     "data": {
      "text/html": [
       "<div>\n",
       "<style scoped>\n",
       "    .dataframe tbody tr th:only-of-type {\n",
       "        vertical-align: middle;\n",
       "    }\n",
       "\n",
       "    .dataframe tbody tr th {\n",
       "        vertical-align: top;\n",
       "    }\n",
       "\n",
       "    .dataframe thead th {\n",
       "        text-align: right;\n",
       "    }\n",
       "</style>\n",
       "<table border=\"1\" class=\"dataframe\">\n",
       "  <thead>\n",
       "    <tr style=\"text-align: right;\">\n",
       "      <th></th>\n",
       "      <th>Rijksmuseum</th>\n",
       "      <th>Anna Frank House</th>\n",
       "      <th>Van Gogh Museum</th>\n",
       "      <th>The Jordaan</th>\n",
       "      <th>Vondelpark</th>\n",
       "      <th>Adam Lookout</th>\n",
       "      <th>Body Worlds</th>\n",
       "      <th>Rembrandt huis</th>\n",
       "      <th>ARTIS Royal Zoo</th>\n",
       "      <th>Micropia</th>\n",
       "      <th>Albert Cuyp Market</th>\n",
       "      <th>Amsterdamse Bos</th>\n",
       "      <th>De 9 Straatjes</th>\n",
       "    </tr>\n",
       "  </thead>\n",
       "  <tbody>\n",
       "    <tr>\n",
       "      <td>museum_lover</td>\n",
       "      <td>5</td>\n",
       "      <td>5.0</td>\n",
       "      <td>5</td>\n",
       "      <td>3.0</td>\n",
       "      <td>0.0</td>\n",
       "      <td>0.0</td>\n",
       "      <td>1.0</td>\n",
       "      <td>2.0</td>\n",
       "      <td>0.0</td>\n",
       "      <td>1.0</td>\n",
       "      <td>0.0</td>\n",
       "      <td>0.0</td>\n",
       "      <td>0.0</td>\n",
       "    </tr>\n",
       "    <tr>\n",
       "      <td>city_guy</td>\n",
       "      <td>3</td>\n",
       "      <td>0.0</td>\n",
       "      <td>3</td>\n",
       "      <td>5.0</td>\n",
       "      <td>5.0</td>\n",
       "      <td>4.0</td>\n",
       "      <td>0.0</td>\n",
       "      <td>0.0</td>\n",
       "      <td>0.0</td>\n",
       "      <td>0.0</td>\n",
       "      <td>3.0</td>\n",
       "      <td>3.0</td>\n",
       "      <td>5.0</td>\n",
       "    </tr>\n",
       "    <tr>\n",
       "      <td>family_mom</td>\n",
       "      <td>4</td>\n",
       "      <td>5.0</td>\n",
       "      <td>3</td>\n",
       "      <td>4.0</td>\n",
       "      <td>5.0</td>\n",
       "      <td>0.0</td>\n",
       "      <td>0.0</td>\n",
       "      <td>0.0</td>\n",
       "      <td>5.0</td>\n",
       "      <td>0.0</td>\n",
       "      <td>4.0</td>\n",
       "      <td>4.0</td>\n",
       "      <td>4.0</td>\n",
       "    </tr>\n",
       "  </tbody>\n",
       "</table>\n",
       "</div>"
      ],
      "text/plain": [
       "              Rijksmuseum  Anna Frank House  Van Gogh Museum  The Jordaan  \\\n",
       "museum_lover            5               5.0                5          3.0   \n",
       "city_guy                3               0.0                3          5.0   \n",
       "family_mom              4               5.0                3          4.0   \n",
       "\n",
       "              Vondelpark  Adam Lookout  Body Worlds  Rembrandt huis  \\\n",
       "museum_lover         0.0           0.0          1.0             2.0   \n",
       "city_guy             5.0           4.0          0.0             0.0   \n",
       "family_mom           5.0           0.0          0.0             0.0   \n",
       "\n",
       "              ARTIS Royal Zoo  Micropia  Albert Cuyp Market  Amsterdamse Bos  \\\n",
       "museum_lover              0.0       1.0                 0.0              0.0   \n",
       "city_guy                  0.0       0.0                 3.0              3.0   \n",
       "family_mom                5.0       0.0                 4.0              4.0   \n",
       "\n",
       "              De 9 Straatjes  \n",
       "museum_lover             0.0  \n",
       "city_guy                 5.0  \n",
       "family_mom               4.0  "
      ]
     },
     "execution_count": 119,
     "metadata": {},
     "output_type": "execute_result"
    }
   ],
   "source": [
    "df = pd.read_csv('RealWorldApplications/travel-attractions-recommendation-dataset.csv', index_col=0)\n",
    "\n",
    "df = df.fillna(0)\n",
    "df.head(3)"
   ]
  },
  {
   "cell_type": "code",
   "execution_count": 120,
   "metadata": {},
   "outputs": [
    {
     "data": {
      "text/plain": [
       "array([[ 0.81110711,  0.89442719,  1.01015254, -0.42640143, -1.5430335 ,\n",
       "        -0.8878117 , -0.43905704,  0.32547228, -0.55738641, -0.44450044,\n",
       "        -1.79990817, -0.76338629, -1.83333333]])"
      ]
     },
     "execution_count": 120,
     "metadata": {},
     "output_type": "execute_result"
    }
   ],
   "source": [
    "# scaling all ratings to a smaller nummericals for more accuracy\n",
    "X = preprocessing.scale(df)\n",
    "X[:1]"
   ]
  },
  {
   "cell_type": "code",
   "execution_count": 121,
   "metadata": {},
   "outputs": [
    {
     "data": {
      "text/plain": [
       "array([[ 1.        ,  0.25391669,  0.36051044, -0.38044296, -0.55068879,\n",
       "        -0.1667624 ,  0.11573974,  0.30623174, -0.05651251,  0.36053747,\n",
       "        -0.22941573, -0.75255162, -0.45962736],\n",
       "       [ 0.25391669,  1.        , -0.29364007, -0.76277007, -0.69006556,\n",
       "        -0.99260365, -0.26998438,  0.75688926,  0.35832675, -0.24138378,\n",
       "        -0.45996766, -0.26261287, -0.59628479],\n",
       "       [ 0.36051044, -0.29364007,  1.        , -0.0861461 ,  0.01558699,\n",
       "         0.3445697 ,  0.64309615, -0.15123726, -0.13372326,  0.73766463,\n",
       "        -0.4025974 , -0.08304548, -0.42089689]])"
      ]
     },
     "execution_count": 121,
     "metadata": {},
     "output_type": "execute_result"
    }
   ],
   "source": [
    "# calculating the similarity % of each attraction to each other attraction\n",
    "item_similarity = cosine_similarity(X.T)\n",
    "\n",
    "# setting the results into a dataframe format for easy use\n",
    "item_similarity_df = pd.DataFrame(item_similarity, index=df.columns, columns=df.columns)\n",
    "item_similarity_df"
   ]
  },
  {
   "cell_type": "code",
   "execution_count": 123,
   "metadata": {},
   "outputs": [],
   "source": [
    "def get_suggested_attractions(attraction, user_rating):\n",
    "    # 2.5 is to make the results more extreme between what might be liked vs disliked\n",
    "    attraction_scores = item_similarity_df[attraction] * (user_rating-2.5)\n",
    "    attractions = attraction_scores.sort_values(ascending=False)\n",
    "    return attractions"
   ]
  },
  {
   "cell_type": "markdown",
   "metadata": {},
   "source": [
    "**Usage Example 1:**\n",
    "\n",
    "_A user rated the attraction \"The Jordaan\" and gave it 5 stars,\n",
    "now get_suggested_attractions() will get a list of the similarity of the Jordaan to all other attractions,\n",
    "then we multiple each similarity by the users' rating, so that the users' taste is affecting the results. \n",
    "So if the user likes the base attraction, the similar attractions will get a positive boost up and the opposite attractions will go down.\n",
    "And the opposite, if the user disliked this attraction, all similar attractions will go down in the and the opposite attractions will get a boost up_\n",
    "\n",
    "_The results suggest the user might like other neighborhoods and cool attractions, and dislike museums_"
   ]
  },
  {
   "cell_type": "code",
   "execution_count": 124,
   "metadata": {
    "scrolled": true
   },
   "outputs": [
    {
     "name": "stdout",
     "output_type": "stream",
     "text": [
      "The Jordaan           2.500000\n",
      "De 9 Straatjes        1.954340\n",
      "Adam Lookout          1.892821\n",
      "Vondelpark            1.809367\n",
      "Albert Cuyp Market    1.781658\n",
      "Amsterdamse Bos       1.064164\n",
      "Body Worlds          -0.029252\n",
      "Van Gogh Museum      -0.215365\n",
      "Micropia             -0.473839\n",
      "ARTIS Royal Zoo      -0.482768\n",
      "Rijksmuseum          -0.951107\n",
      "Anna Frank House     -1.906925\n",
      "Rembrandt huis       -2.151119\n",
      "Name: The Jordaan, dtype: float64\n"
     ]
    }
   ],
   "source": [
    "print(get_suggested_attractions(attraction=\"The Jordaan\", user_rating=5))"
   ]
  },
  {
   "cell_type": "markdown",
   "metadata": {},
   "source": [
    "**Usage Example 2:**\n",
    "\n",
    "_A user rated multiple attractions, some he liked, others disliked. \n",
    "We get results for each rating we have, and calculate the avarage of them to get the final suggestions list_\n",
    "\n",
    "_Given that the user liked a neighborehood, and disliked a museum and a park, we can see the results we get this time, suggest another park (Vondelpark) lower in the list then in the previous example, and show a similar museum (Body Worlds) also lower in the list._"
   ]
  },
  {
   "cell_type": "code",
   "execution_count": 125,
   "metadata": {},
   "outputs": [
    {
     "data": {
      "text/plain": [
       "The Jordaan           1.879053\n",
       "De 9 Straatjes        1.257355\n",
       "Albert Cuyp Market    1.149868\n",
       "Adam Lookout          1.050326\n",
       "Vondelpark            0.649125\n",
       "Rijksmuseum           0.004110\n",
       "ARTIS Royal Zoo      -0.478853\n",
       "Amsterdamse Bos      -0.585696\n",
       "Van Gogh Museum      -1.055441\n",
       "Anna Frank House     -1.108029\n",
       "Rembrandt huis       -1.458198\n",
       "Micropia             -1.520139\n",
       "Body Worlds          -1.679112\n",
       "dtype: float64"
      ]
     },
     "execution_count": 125,
     "metadata": {},
     "output_type": "execute_result"
    }
   ],
   "source": [
    "new_user = [(\"The Jordaan\", 5), (\"Body Worlds\", 1), (\"Amsterdamse Bos\", 1)]\n",
    "\n",
    "suggestions = pd.DataFrame()\n",
    "\n",
    "for attraction, rating in new_user:\n",
    "    suggestions = suggestions.append(get_suggested_attractions(attraction, rating), ignore_index=True)\n",
    "    \n",
    "suggestions.sum().sort_values(ascending=False)    "
   ]
  }
 ],
 "metadata": {
  "kernelspec": {
   "display_name": "Python 3",
   "language": "python",
   "name": "python3"
  },
  "language_info": {
   "codemirror_mode": {
    "name": "ipython",
    "version": 3
   },
   "file_extension": ".py",
   "mimetype": "text/x-python",
   "name": "python",
   "nbconvert_exporter": "python",
   "pygments_lexer": "ipython3",
   "version": "3.7.4"
  }
 },
 "nbformat": 4,
 "nbformat_minor": 2
}
