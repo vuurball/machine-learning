{
 "cells": [
  {
   "cell_type": "code",
   "execution_count": 563,
   "metadata": {},
   "outputs": [],
   "source": [
    "import pandas as pd\n",
    "import numpy as np\n",
    "from sklearn.feature_extraction.text import CountVectorizer\n",
    "from sklearn.metrics.pairwise import cosine_similarity"
   ]
  },
  {
   "cell_type": "code",
   "execution_count": 564,
   "metadata": {},
   "outputs": [],
   "source": [
    "def get_title_from_index(i):\n",
    "    return df.iloc[[i]].Title.values[0]\n",
    "\n",
    "\n",
    "def get_index_from_title(title):\n",
    "    try:\n",
    "        return df[df.Title == title].index.values[0]\n",
    "    except IndexError:\n",
    "        return 0 # if not found\n",
    "    \n",
    "    \n",
    "# putting more weight on films with same actors, than by genre or description\n",
    "def concat_columns(row):\n",
    "    return row['Actors'] +\" \"+ row['Actors'] +\" \"+ row['Description'] +\" \"+ row['Genre']"
   ]
  },
  {
   "cell_type": "markdown",
   "metadata": {},
   "source": [
    "**Step 1: Import data set file**"
   ]
  },
  {
   "cell_type": "code",
   "execution_count": 565,
   "metadata": {
    "scrolled": false
   },
   "outputs": [
    {
     "data": {
      "text/html": [
       "<div>\n",
       "<style scoped>\n",
       "    .dataframe tbody tr th:only-of-type {\n",
       "        vertical-align: middle;\n",
       "    }\n",
       "\n",
       "    .dataframe tbody tr th {\n",
       "        vertical-align: top;\n",
       "    }\n",
       "\n",
       "    .dataframe thead th {\n",
       "        text-align: right;\n",
       "    }\n",
       "</style>\n",
       "<table border=\"1\" class=\"dataframe\">\n",
       "  <thead>\n",
       "    <tr style=\"text-align: right;\">\n",
       "      <th></th>\n",
       "      <th>Rank</th>\n",
       "      <th>Title</th>\n",
       "      <th>Genre</th>\n",
       "      <th>Description</th>\n",
       "      <th>Director</th>\n",
       "      <th>Actors</th>\n",
       "      <th>Year</th>\n",
       "      <th>Runtime (Minutes)</th>\n",
       "      <th>Rating</th>\n",
       "      <th>Votes</th>\n",
       "      <th>Revenue (Millions)</th>\n",
       "      <th>Metascore</th>\n",
       "    </tr>\n",
       "  </thead>\n",
       "  <tbody>\n",
       "    <tr>\n",
       "      <td>0</td>\n",
       "      <td>1</td>\n",
       "      <td>Guardians of the Galaxy</td>\n",
       "      <td>Action,Adventure,Sci-Fi</td>\n",
       "      <td>A group of intergalactic criminals are forced ...</td>\n",
       "      <td>James Gunn</td>\n",
       "      <td>Chris Pratt, Vin Diesel, Bradley Cooper, Zoe S...</td>\n",
       "      <td>2014</td>\n",
       "      <td>121</td>\n",
       "      <td>8.1</td>\n",
       "      <td>757074</td>\n",
       "      <td>333.13</td>\n",
       "      <td>76.0</td>\n",
       "    </tr>\n",
       "    <tr>\n",
       "      <td>1</td>\n",
       "      <td>2</td>\n",
       "      <td>Prometheus</td>\n",
       "      <td>Adventure,Mystery,Sci-Fi</td>\n",
       "      <td>Following clues to the origin of mankind, a te...</td>\n",
       "      <td>Ridley Scott</td>\n",
       "      <td>Noomi Rapace, Logan Marshall-Green, Michael Fa...</td>\n",
       "      <td>2012</td>\n",
       "      <td>124</td>\n",
       "      <td>7.0</td>\n",
       "      <td>485820</td>\n",
       "      <td>126.46</td>\n",
       "      <td>65.0</td>\n",
       "    </tr>\n",
       "  </tbody>\n",
       "</table>\n",
       "</div>"
      ],
      "text/plain": [
       "   Rank                    Title                     Genre  \\\n",
       "0     1  Guardians of the Galaxy   Action,Adventure,Sci-Fi   \n",
       "1     2               Prometheus  Adventure,Mystery,Sci-Fi   \n",
       "\n",
       "                                         Description      Director  \\\n",
       "0  A group of intergalactic criminals are forced ...    James Gunn   \n",
       "1  Following clues to the origin of mankind, a te...  Ridley Scott   \n",
       "\n",
       "                                              Actors  Year  Runtime (Minutes)  \\\n",
       "0  Chris Pratt, Vin Diesel, Bradley Cooper, Zoe S...  2014                121   \n",
       "1  Noomi Rapace, Logan Marshall-Green, Michael Fa...  2012                124   \n",
       "\n",
       "   Rating   Votes  Revenue (Millions)  Metascore  \n",
       "0     8.1  757074              333.13       76.0  \n",
       "1     7.0  485820              126.46       65.0  "
      ]
     },
     "execution_count": 565,
     "metadata": {},
     "output_type": "execute_result"
    }
   ],
   "source": [
    "df = pd.read_csv('IMDBMovies.csv')\n",
    "df.head(2)"
   ]
  },
  {
   "cell_type": "markdown",
   "metadata": {},
   "source": [
    "**Step 2: Defining the FEATURES**\n",
    "\n",
    "_we select the columns which may be relevant to finding a similar movie,\n",
    "we will concatenate all those columns to have 1 new column with all the data in it as a long string_"
   ]
  },
  {
   "cell_type": "code",
   "execution_count": 566,
   "metadata": {
    "scrolled": true
   },
   "outputs": [],
   "source": [
    "df.fillna('', inplace=True)\n",
    "          \n",
    "# df.apply will run the concat_columns() func on each row (axis=1)\n",
    "df['features'] = df.apply(concat_columns, axis=1)"
   ]
  },
  {
   "cell_type": "markdown",
   "metadata": {},
   "source": [
    "**Step 3: Creating a count matrix model from this new conbined column**\n",
    "\n",
    "_the model will be a matrix table of the similarity % between all movies in the DF (based on the text similatiry in the FEATURES column). each MoviexMovie combination will have a score_ "
   ]
  },
  {
   "cell_type": "code",
   "execution_count": 567,
   "metadata": {
    "scrolled": true
   },
   "outputs": [],
   "source": [
    "model = CountVectorizer()\n",
    "count_matrix = model.fit_transform(df['features'])\n"
   ]
  },
  {
   "cell_type": "markdown",
   "metadata": {},
   "source": [
    "**Step 4: Computing the Cosine Similarity based on the count_matrix**"
   ]
  },
  {
   "cell_type": "code",
   "execution_count": 568,
   "metadata": {},
   "outputs": [
    {
     "data": {
      "text/plain": [
       "array([[1.        , 0.14762035, 0.09615088, ..., 0.08858233, 0.14729194,\n",
       "        0.05579525],\n",
       "       [0.14762035, 1.        , 0.09304842, ..., 0.05143445, 0.1069045 ,\n",
       "        0.05399492],\n",
       "       [0.09615088, 0.09304842, 1.        , ..., 0.05025189, 0.08703883,\n",
       "        0.035169  ],\n",
       "       ...,\n",
       "       [0.08858233, 0.05143445, 0.05025189, ..., 1.        , 0.13471506,\n",
       "        0.05832118],\n",
       "       [0.14729194, 0.1069045 , 0.08703883, ..., 0.13471506, 1.        ,\n",
       "        0.06060915],\n",
       "       [0.05579525, 0.05399492, 0.035169  , ..., 0.05832118, 0.06060915,\n",
       "        1.        ]])"
      ]
     },
     "execution_count": 568,
     "metadata": {},
     "output_type": "execute_result"
    }
   ],
   "source": [
    "cosine_sim = cosine_similarity(count_matrix)\n",
    "cosine_sim"
   ]
  },
  {
   "cell_type": "markdown",
   "metadata": {},
   "source": [
    "**Step 5: Using the model to get movie recommendations**"
   ]
  },
  {
   "cell_type": "code",
   "execution_count": 569,
   "metadata": {},
   "outputs": [
    {
     "data": {
      "text/plain": [
       "[(0, 1.0),\n",
       " (1, 0.14762034939153684),\n",
       " (2, 0.0961508829696314),\n",
       " (3, 0.07725290582613706),\n",
       " (4, 0.15905106915879738),\n",
       " (5, 0.16147947019964579)]"
      ]
     },
     "execution_count": 569,
     "metadata": {},
     "output_type": "execute_result"
    }
   ],
   "source": [
    "# asking for recommendations of similar movies to \"Mr. Brooks\" film\n",
    "similar_to_name = \"Mr. Brooks\"\n",
    "similar_to_i = get_index_from_title(similar_to_name)\n",
    "\n",
    "# getting row of cosine_sim for our movie above, this row will contain % of similarity to every other movie, in each col\n",
    "# applying list(enumerate()) on the row, to get a list key:movie_id, value:similarity%\n",
    "# that's how we preserve the movie id key\n",
    "similar_movies = list(enumerate(cosine_sim[similar_to_i]))\n",
    "similar_movies[:6]"
   ]
  },
  {
   "cell_type": "code",
   "execution_count": 570,
   "metadata": {},
   "outputs": [
    {
     "data": {
      "text/plain": [
       "[(0, 1.0),\n",
       " (362, 0.42477450887985435),\n",
       " (48, 0.35607368025665226),\n",
       " (728, 0.306810993379327),\n",
       " (384, 0.2983002696067465),\n",
       " (541, 0.28241940061982396)]"
      ]
     },
     "execution_count": 570,
     "metadata": {},
     "output_type": "execute_result"
    }
   ],
   "source": [
    "# sorting the similar movies list by the similarity in descending order. \n",
    "# the keys are preserved to get the movie title from it\n",
    "sorted_similar_movies = sorted(similar_movies, key=lambda x:x[1], reverse=True)\n",
    "sorted_similar_movies[:6]"
   ]
  },
  {
   "cell_type": "code",
   "execution_count": 571,
   "metadata": {},
   "outputs": [
    {
     "name": "stdout",
     "output_type": "stream",
     "text": [
      "1: Star Trek Into Darkness\n",
      "2: Star Trek Beyond\n",
      "3: The A-Team\n",
      "4: The Lego Movie\n",
      "5: Limitless\n",
      "6: Avengers: Age of Ultron\n",
      "7: American Sniper\n",
      "8: Joy\n",
      "9: Star Trek\n",
      "10: The Magnificent Seven\n"
     ]
    }
   ],
   "source": [
    "# printing out top 10 recommendations\n",
    "i=1\n",
    "for movie in sorted_similar_movies[1:11]:\n",
    "    print(f\"{i}: {get_title_from_index(movie[0])}\")\n",
    "    i+=1\n",
    " "
   ]
  }
 ],
 "metadata": {
  "kernelspec": {
   "display_name": "Python 3",
   "language": "python",
   "name": "python3"
  },
  "language_info": {
   "codemirror_mode": {
    "name": "ipython",
    "version": 3
   },
   "file_extension": ".py",
   "mimetype": "text/x-python",
   "name": "python",
   "nbconvert_exporter": "python",
   "pygments_lexer": "ipython3",
   "version": "3.7.4"
  }
 },
 "nbformat": 4,
 "nbformat_minor": 2
}
